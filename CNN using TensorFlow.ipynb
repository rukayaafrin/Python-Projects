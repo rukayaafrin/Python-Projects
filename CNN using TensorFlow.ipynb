{
 "cells": [
  {
   "cell_type": "markdown",
   "metadata": {},
   "source": [
    "###### Import Libraries"
   ]
  },
  {
   "cell_type": "code",
   "execution_count": 370,
   "metadata": {},
   "outputs": [],
   "source": [
    "import glob\n",
    "import cv2\n",
    "import numpy as np\n",
    "import pandas as pd\n",
    "import matplotlib.pyplot as plt\n",
    "import tensorflow as tf\n"
   ]
  },
  {
   "cell_type": "code",
   "execution_count": 371,
   "metadata": {},
   "outputs": [],
   "source": [
    "from tensorflow.keras.preprocessing.image import ImageDataGenerator"
   ]
  },
  {
   "cell_type": "markdown",
   "metadata": {},
   "source": [
    "###### Rescale Image for Training Data"
   ]
  },
  {
   "cell_type": "code",
   "execution_count": 372,
   "metadata": {},
   "outputs": [],
   "source": [
    "training_data_generator = ImageDataGenerator(rescale = 1.0/255)"
   ]
  },
  {
   "cell_type": "code",
   "execution_count": 373,
   "metadata": {},
   "outputs": [
    {
     "name": "stdout",
     "output_type": "stream",
     "text": [
      "Found 240 images belonging to 4 classes.\n"
     ]
    }
   ],
   "source": [
    "training_iterator= training_data_generator.flow_from_directory(\"Downloads/CA_Part2_Dataset/train\", batch_size = 32, class_mode=\"categorical\", color_mode=\"rgb\", target_size=(150,150))"
   ]
  },
  {
   "cell_type": "markdown",
   "metadata": {},
   "source": [
    "###### Rescale Image for Test Data"
   ]
  },
  {
   "cell_type": "code",
   "execution_count": 374,
   "metadata": {},
   "outputs": [],
   "source": [
    "testing_data_generator = ImageDataGenerator(rescale = 1.0/255)"
   ]
  },
  {
   "cell_type": "code",
   "execution_count": 375,
   "metadata": {},
   "outputs": [
    {
     "name": "stdout",
     "output_type": "stream",
     "text": [
      "Found 60 images belonging to 4 classes.\n"
     ]
    }
   ],
   "source": [
    "testing_iterator= testing_data_generator.flow_from_directory(\"Downloads/CA_Part2_Dataset/test\", batch_size = 64, class_mode=\"categorical\", color_mode=\"rgb\", target_size=(150,50))"
   ]
  },
  {
   "cell_type": "code",
   "execution_count": 376,
   "metadata": {},
   "outputs": [],
   "source": [
    "validation_data_generator = ImageDataGenerator(rescale = 1/255)"
   ]
  },
  {
   "cell_type": "code",
   "execution_count": 377,
   "metadata": {},
   "outputs": [
    {
     "name": "stdout",
     "output_type": "stream",
     "text": [
      "Found 60 images belonging to 4 classes.\n"
     ]
    }
   ],
   "source": [
    "validation_generator = validation_data_generator.flow_from_directory(\"Downloads/CA_Part2_Dataset/test\", batch_size = 64, class_mode=\"categorical\", color_mode=\"rgb\", target_size=(150,150))"
   ]
  },
  {
   "cell_type": "markdown",
   "metadata": {},
   "source": [
    "###### CNN model"
   ]
  },
  {
   "cell_type": "code",
   "execution_count": 378,
   "metadata": {},
   "outputs": [
    {
     "name": "stdout",
     "output_type": "stream",
     "text": [
      "Model: \"sequential_51\"\n",
      "_________________________________________________________________\n",
      "Layer (type)                 Output Shape              Param #   \n",
      "=================================================================\n",
      "conv2d_197 (Conv2D)          (None, 146, 146, 16)      1216      \n",
      "_________________________________________________________________\n",
      "max_pooling2d_169 (MaxPoolin (None, 73, 73, 16)        0         \n",
      "_________________________________________________________________\n",
      "conv2d_198 (Conv2D)          (None, 69, 69, 32)        12832     \n",
      "_________________________________________________________________\n",
      "max_pooling2d_170 (MaxPoolin (None, 34, 34, 32)        0         \n",
      "_________________________________________________________________\n",
      "conv2d_199 (Conv2D)          (None, 32, 32, 32)        9248      \n",
      "_________________________________________________________________\n",
      "max_pooling2d_171 (MaxPoolin (None, 16, 16, 32)        0         \n",
      "_________________________________________________________________\n",
      "conv2d_200 (Conv2D)          (None, 14, 14, 128)       36992     \n",
      "_________________________________________________________________\n",
      "max_pooling2d_172 (MaxPoolin (None, 7, 7, 128)         0         \n",
      "_________________________________________________________________\n",
      "conv2d_201 (Conv2D)          (None, 5, 5, 128)         147584    \n",
      "_________________________________________________________________\n",
      "max_pooling2d_173 (MaxPoolin (None, 2, 2, 128)         0         \n",
      "_________________________________________________________________\n",
      "flatten_48 (Flatten)         (None, 512)               0         \n",
      "_________________________________________________________________\n",
      "dense_95 (Dense)             (None, 256)               131328    \n",
      "_________________________________________________________________\n",
      "dropout_52 (Dropout)         (None, 256)               0         \n",
      "_________________________________________________________________\n",
      "dense_96 (Dense)             (None, 4)                 1028      \n",
      "=================================================================\n",
      "Total params: 340,228\n",
      "Trainable params: 340,228\n",
      "Non-trainable params: 0\n",
      "_________________________________________________________________\n",
      "Epoch 1/15\n",
      "8/8 [==============================] - 3s 425ms/step - loss: 1.3297 - acc: 0.2917 - val_loss: 1.2156 - val_acc: 0.7833\n",
      "Epoch 2/15\n",
      "8/8 [==============================] - 3s 355ms/step - loss: 1.1180 - acc: 0.5875 - val_loss: 0.9601 - val_acc: 0.5667\n",
      "Epoch 3/15\n",
      "8/8 [==============================] - 3s 370ms/step - loss: 0.9683 - acc: 0.5958 - val_loss: 0.9336 - val_acc: 0.5333\n",
      "Epoch 4/15\n",
      "8/8 [==============================] - 3s 367ms/step - loss: 0.9989 - acc: 0.5333 - val_loss: 0.9125 - val_acc: 0.7167\n",
      "Epoch 5/15\n",
      "8/8 [==============================] - 3s 360ms/step - loss: 0.8047 - acc: 0.6500 - val_loss: 0.8285 - val_acc: 0.6667\n",
      "Epoch 6/15\n",
      "8/8 [==============================] - 3s 345ms/step - loss: 0.7761 - acc: 0.6833 - val_loss: 0.7931 - val_acc: 0.7167\n",
      "Epoch 7/15\n",
      "8/8 [==============================] - 3s 396ms/step - loss: 0.7359 - acc: 0.7000 - val_loss: 0.7575 - val_acc: 0.8167\n",
      "Epoch 8/15\n",
      "8/8 [==============================] - 3s 425ms/step - loss: 0.6971 - acc: 0.7583 - val_loss: 0.7065 - val_acc: 0.8333\n",
      "Epoch 9/15\n",
      "8/8 [==============================] - 4s 449ms/step - loss: 0.6005 - acc: 0.8000 - val_loss: 0.6133 - val_acc: 0.8000\n",
      "Epoch 10/15\n",
      "8/8 [==============================] - 3s 424ms/step - loss: 0.4806 - acc: 0.8500 - val_loss: 0.4893 - val_acc: 0.8833\n",
      "Epoch 11/15\n",
      "8/8 [==============================] - 3s 407ms/step - loss: 0.3889 - acc: 0.8667 - val_loss: 0.5939 - val_acc: 0.8833\n",
      "Epoch 12/15\n",
      "8/8 [==============================] - 3s 422ms/step - loss: 0.4188 - acc: 0.8958 - val_loss: 0.6290 - val_acc: 0.8833\n",
      "Epoch 13/15\n",
      "8/8 [==============================] - 3s 422ms/step - loss: 0.3371 - acc: 0.9125 - val_loss: 0.4092 - val_acc: 0.9167\n",
      "Epoch 14/15\n",
      "8/8 [==============================] - 3s 422ms/step - loss: 0.2531 - acc: 0.9375 - val_loss: 0.3977 - val_acc: 0.9167\n",
      "Epoch 15/15\n",
      "8/8 [==============================] - 3s 423ms/step - loss: 0.3398 - acc: 0.8917 - val_loss: 0.5164 - val_acc: 0.9167\n"
     ]
    }
   ],
   "source": [
    "model = tf.keras.models.Sequential([\n",
    "    tf.keras.layers.Conv2D(16, (5,5), activation='relu',input_shape=(150, 150, 3)),\n",
    "    tf.keras.layers.MaxPooling2D(2,2),\n",
    "    \n",
    "    tf.keras.layers.Conv2D(32, (5,5), activation = 'relu'),\n",
    "    tf.keras.layers.MaxPooling2D(2,2),\n",
    "        \n",
    "    tf.keras.layers.Conv2D(32, (3,3), activation='relu'),\n",
    "    tf.keras.layers.MaxPooling2D(2,2),\n",
    "    \n",
    "    tf.keras.layers.Conv2D(128, (3,3), activation='relu'),\n",
    "    tf.keras.layers.MaxPooling2D(2,2),\n",
    "    \n",
    "    tf.keras.layers.Conv2D(128, (3,3), activation='relu'),\n",
    "    tf.keras.layers.MaxPooling2D(2,2),\n",
    "    \n",
    "    tf.keras.layers.Flatten(),\n",
    "\n",
    "    tf.keras.layers.Dense(256, activation='relu'),\n",
    "    tf.keras.layers.Dropout(0.5),\n",
    "    tf.keras.layers.Dense(4, activation = 'softmax')\n",
    "])\n",
    "\n",
    "model.summary()\n",
    "\n",
    "model.compile(loss = 'categorical_crossentropy', optimizer= tf.keras.optimizers.Adam(), metrics=['acc'])\n",
    "\n",
    "history = model.fit(training_iterator,\n",
    "                    epochs = 15,\n",
    "                    verbose = 1,\n",
    "                   validation_data = validation_generator)"
   ]
  },
  {
   "cell_type": "markdown",
   "metadata": {},
   "source": [
    "###### Plot Accuracy and Loss over 15 Epochs"
   ]
  },
  {
   "cell_type": "code",
   "execution_count": 381,
   "metadata": {},
   "outputs": [
    {
     "data": {
      "image/png": "[encoded data removed]",
      "text/plain": [
       "<Figure size 432x288 with 1 Axes>"
      ]
     },
     "metadata": {
      "needs_background": "light"
     },
     "output_type": "display_data"
    },
    {
     "data": {
      "text/plain": [
       "<Figure size 432x288 with 0 Axes>"
      ]
     },
     "metadata": {},
     "output_type": "display_data"
    }
   ],
   "source": [
    "acc = history.history['acc']\n",
    "val_acc = history.history['val_acc']\n",
    "val_loss = history.history['val_loss']\n",
    "\n",
    "epochs = range(len(acc))\n",
    "\n",
    "\n",
    "plt.plot(epochs, val_acc, 'b', label='Accuracy')\n",
    "plt.plot(epochs, val_loss, 'r', label='Loss')\n",
    "plt.title('Accuracy and Loss')\n",
    "plt.legend()\n",
    "plt.figure()\n",
    "\n",
    "plt.show()"
   ]
  },
  {
   "cell_type": "code",
   "execution_count": null,
   "metadata": {},
   "outputs": [],
   "source": []
  }
 ],
 "metadata": {
  "kernelspec": {
   "display_name": "Python 3",
   "language": "python",
   "name": "python3"
  },
  "language_info": {
   "codemirror_mode": {
    "name": "ipython",
    "version": 3
   },
   "file_extension": ".py",
   "mimetype": "text/x-python",
   "name": "python",
   "nbconvert_exporter": "python",
   "pygments_lexer": "ipython3",
   "version": "3.8.5"
  }
 },
 "nbformat": 4,
 "nbformat_minor": 4
}
